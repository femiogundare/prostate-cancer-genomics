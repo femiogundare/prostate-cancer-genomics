{
 "cells": [
  {
   "cell_type": "code",
   "execution_count": 1,
   "metadata": {},
   "outputs": [],
   "source": [
    "import sys\n",
    "import os\n",
    "from os.path import dirname, realpath, join\n",
    "base_dir = dirname(dirname(os.getcwd()))\n",
    "base_dir\n",
    "import pandas as pd\n",
    "from os.path import join"
   ]
  },
  {
   "cell_type": "code",
   "execution_count": 2,
   "metadata": {},
   "outputs": [],
   "source": [
    "sys.path.insert(0, base_dir)\n",
    "from config import PROSTATE_DATA_PATH, PLOTS_PATH, PROSTATE_LOG_PATH"
   ]
  },
  {
   "cell_type": "code",
   "execution_count": 3,
   "metadata": {},
   "outputs": [],
   "source": [
    "#https://stackoverflow.com/questions/56518924/how-we-can-get-the-total-number-of-neurons-from-a-model-in-keras-is-there-any-f\n",
    "def get_total_number_of_neurons(model, include_output_layer):\n",
    "    '''\n",
    "    Args:\n",
    "        model: Keras model\n",
    "        include_output_layer: A boolean parameter. Whether or not to include output layer's neurons into the calculation\n",
    "\n",
    "    Returns: number of neurons in the given model\n",
    "    '''\n",
    "    num_layers = len(model.layers)\n",
    "    total_num_of_neurons = 0\n",
    "    for layer_index in range(num_layers):\n",
    "        layer = model.layers[layer_index]\n",
    "        # since we multiply layer output dimensions, initial value is set to 1.\n",
    "        num_neurons_in_layer = 1\n",
    "        for i in range(1, len(layer.output.shape)):\n",
    "            try:\n",
    "                # when it is a valid layer to count neurons, an output dimension of the layer can be convertible to int.\n",
    "                num_neurons_in_layer *= int(layer.output.shape[i])\n",
    "            except Exception:\n",
    "                # if the output dimension of layer cannot be convertible to int,\n",
    "                # just pass that layer since it is not a valid layer to count neurons\n",
    "                pass\n",
    "        # if num_neurons_in_layer is not still 1, it means we have a valid layer to count neurons\n",
    "        if not num_neurons_in_layer == 1:\n",
    "            # when it is an output layer\n",
    "            if layer_index == (num_layers - 1):\n",
    "                if include_output_layer:\n",
    "                    total_num_of_neurons += num_neurons_in_layer\n",
    "            else:  # when it is not an output layer\n",
    "                total_num_of_neurons += num_neurons_in_layer\n",
    "    return total_num_of_neurons"
   ]
  },
  {
   "cell_type": "code",
   "execution_count": 4,
   "metadata": {},
   "outputs": [],
   "source": [
    "filename = join(PROSTATE_LOG_PATH, 'prostate_net/onesplit_average_reg_10_tanh_test/P-net_ALL_params.yml')"
   ]
  },
  {
   "cell_type": "code",
   "execution_count": 6,
   "metadata": {},
   "outputs": [],
   "source": [
    "from utilities.loading_utils import DataModelLoader"
   ]
  },
  {
   "cell_type": "code",
   "execution_count": 7,
   "metadata": {},
   "outputs": [
    {
     "name": "stderr",
     "output_type": "stream",
     "text": [
      "WARNING:root:Some of the genes inputed do not exist in the original dataset.\n",
      "WARNING:root:Some of the genes inputed do not exist in the original dataset.\n",
      "WARNING:root:Some of the genes inputed do not exist in the original dataset.\n"
     ]
    },
    {
     "name": "stdout",
     "output_type": "stream",
     "text": [
      "Data combine type: union\n"
     ]
    }
   ],
   "source": [
    "loader = DataModelLoader(filename)"
   ]
  },
  {
   "cell_type": "code",
   "execution_count": 8,
   "metadata": {},
   "outputs": [
    {
     "name": "stderr",
     "output_type": "stream",
     "text": [
      "calling yaml.load() without Loader=... is deprecated, as the default Loader is unsafe. Please read https://msg.pyyaml.org/load for full details.\n"
     ]
    },
    {
     "name": "stdout",
     "output_type": "stream",
     "text": [
      "Params {'data_params': {'id': 'ALL', 'params': {'balanced_data': False, 'cnv_levels': 3, 'combine_type': 'union', 'data_type': ['important_mutations', 'cnv_deletion', 'cnv_amplification'], 'drop_AR': False, 'mutation_binary': True, 'selected_genes': 'tcga_prostate_expressed_genes_and_cancer_genes.csv', 'training_split': 0, 'use_coding_genes_only': True}, 'type': 'prostate_data'}, 'exp_name': 'C:\\\\Users\\\\Dell\\\\Desktop\\\\CV Projects\\\\prostate_cancer_genomics\\\\_logs\\\\prostate\\\\prostate_net/onesplit_average_reg_10_tanh_test', 'features_params': {}, 'model_params': {'id': 'P-net_ALL', 'params': {'build_fn': <function build_pnet at 0x00000207C5F9C048>, 'feature_importance': 'deepexplain_deeplift', 'fitting_params': {'batch_size': 50, 'class_weight': 'auto', 'debug': False, 'early_stop': False, 'epoch': 300, 'lr': 0.001, 'max_f1': True, 'monitor': 'val_o6_f1', 'n_outputs': 6, 'prediction_output': 'average', 'reduce_lr': False, 'reduce_lr_after_nepochs': {'drop': 0.25, 'epochs_drop': 50}, 'samples_per_epoch': 10, 'save_gradient': False, 'save_name': 'pnet', 'select_best_model': False, 'shuffle': True, 'verbose': 2}, 'model_params': {'activation': 'tanh', 'add_unk_genes': False, 'attention': False, 'data_params': {'id': 'ALL', 'params': {'balanced_data': False, 'cnv_levels': 3, 'combine_type': 'union', 'data_type': ['important_mutations', 'cnv_deletion', 'cnv_amplification'], 'drop_AR': False, 'mutation_binary': True, 'selected_genes': 'tcga_prostate_expressed_genes_and_cancer_genes.csv', 'training_split': 0, 'use_coding_genes_only': True}, 'type': 'prostate_data'}, 'dropout': [0.5, 0.1, 0.1, 0.1, 0.1, 0.1, 0.1], 'dropout_testing': False, 'kernel_initializer': 'lecun_uniform', 'loss_weights': [2, 7, 20, 54, 148, 400], 'n_hidden_layers': 5, 'optimizer': 'Adam', 'shuffle_genes': False, 'use_bias': True, 'w_reg': [0.001, 0.001, 0.001, 0.001, 0.001, 0.001, 0.001], 'w_reg_outcomes': [0.01, 0.01, 0.01, 0.01, 0.01, 0.01]}}, 'type': 'nn'}, 'pipeline_params': {'params': {'eval_dataset': 'test', 'save_train': True}, 'type': 'one_split'}, 'pre_params': {'type': None}, 'score': \"{'accuracy': 0.8382352941176471, 'precision': 0.7236842105263158, 'auc': 0.9262446889639394, 'f1': 0.7692307692307693, 'aupr': 0.8852315633822965, 'recall': 0.8208955223880597}\", 'task': 'classification_binary'}\n"
     ]
    },
    {
     "name": "stderr",
     "output_type": "stream",
     "text": [
      "WARNING:root:Some of the genes inputed do not exist in the original dataset.\n"
     ]
    },
    {
     "name": "stdout",
     "output_type": "stream",
     "text": [
      "FS model Model(build_fn=<function build_pnet at 0x00000207C5F9C048>,\n",
      "      feature_importance='deepexplain_deeplift',\n",
      "      fitting_params={'batch_size': 50, 'class_weight': 'auto', 'debug': False,\n",
      "                      'early_stop': False, 'epoch': 300, 'lr': 0.001,\n",
      "                      'max_f1': True, 'monitor': 'val_o6_f1', 'n_outputs': 6,\n",
      "                      'prediction_output': 'average', 'reduce_lr': False,\n",
      "                      'reduce_lr_after_nepochs': {'drop': 0.25,\n",
      "                                                  'epoc...\n",
      "                                               'use_coding_genes_only': True},\n",
      "                                    'type': 'prostate_data'},\n",
      "                    'dropout': [0.5, 0.1, 0.1, 0.1, 0.1, 0.1, 0.1],\n",
      "                    'dropout_testing': False,\n",
      "                    'kernel_initializer': 'lecun_uniform',\n",
      "                    'loss_weights': [2, 7, 20, 54, 148, 400],\n",
      "                    'n_hidden_layers': 5, 'optimizer': 'Adam',\n",
      "                    'shuffle_genes': False, 'use_bias': True,\n",
      "                    'w_reg': [0.001, 0.001, 0.001, 0.001, 0.001, 0.001, 0.001],\n",
      "                    'w_reg_outcomes': [0.01, 0.01, 0.01, 0.01, 0.01, 0.01]})\n"
     ]
    },
    {
     "name": "stderr",
     "output_type": "stream",
     "text": [
      "WARNING:root:Some of the genes inputed do not exist in the original dataset.\n",
      "WARNING:root:Some of the genes inputed do not exist in the original dataset.\n"
     ]
    },
    {
     "name": "stdout",
     "output_type": "stream",
     "text": [
      "Data combine type: union\n",
      "Shape of the data matrix: (1011, 27687)\n",
      "Number of samples: 1011\n",
      "Number of responses: 1011\n",
      "Number of genes: 27687\n",
      "Activation decision: sigmoid\n",
      "input dimension 27687, self.units 9229\n",
      "n_inputs_per_node 3\n",
      "self.kernel_initializer <keras.regularizers.L2 object at 0x00000207D82820C8> <keras.initializers.initializers_v2.LecunUniform object at 0x00000207D825A348> <keras.regularizers.L2 object at 0x00000207D82820C8>\n",
      "WARNING:tensorflow:AutoGraph could not transform <bound method Diagonal.call of <model.custom_layers.Diagonal object at 0x00000207D82825C8>> and will run it as-is.\n",
      "Please report this to the TensorFlow team. When filing the bug, set the verbosity to 10 (on Linux, `export AUTOGRAPH_VERBOSITY=10`) and attach the full output.\n",
      "Cause: module 'gast' has no attribute 'Constant'\n",
      "To silence this warning, decorate the function with @tf.autograph.experimental.do_not_convert\n"
     ]
    },
    {
     "name": "stderr",
     "output_type": "stream",
     "text": [
      "WARNING:tensorflow:AutoGraph could not transform <bound method Diagonal.call of <model.custom_layers.Diagonal object at 0x00000207D82825C8>> and will run it as-is.\n",
      "Please report this to the TensorFlow team. When filing the bug, set the verbosity to 10 (on Linux, `export AUTOGRAPH_VERBOSITY=10`) and attach the full output.\n",
      "Cause: module 'gast' has no attribute 'Constant'\n",
      "To silence this warning, decorate the function with @tf.autograph.experimental.do_not_convert\n"
     ]
    },
    {
     "name": "stdout",
     "output_type": "stream",
     "text": [
      "WARNING: AutoGraph could not transform <bound method Diagonal.call of <model.custom_layers.Diagonal object at 0x00000207D82825C8>> and will run it as-is.\n",
      "Please report this to the TensorFlow team. When filing the bug, set the verbosity to 10 (on Linux, `export AUTOGRAPH_VERBOSITY=10`) and attach the full output.\n",
      "Cause: module 'gast' has no attribute 'Constant'\n",
      "To silence this warning, decorate the function with @tf.autograph.experimental.do_not_convert\n",
      "input dimensions (None, 27687)\n",
      "Layer 0\n",
      "Filtered_map (9229, 0)\n",
      "Filtered_map (9229, 0)\n",
      "Filtered_map (9229, 0)\n",
      "Layer 1\n",
      "Filtered_map (1387, 0)\n",
      "Filtered_map (1387, 0)\n",
      "Filtered_map (1387, 0)\n",
      "Layer 2\n",
      "Filtered_map (1066, 0)\n",
      "Filtered_map (1066, 0)\n",
      "Filtered_map (1066, 0)\n",
      "Layer 3\n",
      "Filtered_map (447, 0)\n",
      "Filtered_map (447, 0)\n",
      "Filtered_map (447, 0)\n",
      "Layer 4\n",
      "Filtered_map (147, 0)\n",
      "Filtered_map (147, 0)\n",
      "Filtered_map (147, 0)\n",
      "Layer 5\n",
      "Filtered_map (26, 0)\n",
      "Filtered_map (26, 0)\n",
      "Filtered_map (26, 0)\n",
      "Layer 0, dropout  0.1 w_reg 0.001\n",
      "WARNING:tensorflow:AutoGraph could not transform <bound method SparseTF.call of <model.custom_layers.SparseTF object at 0x00000207D9932C08>> and will run it as-is.\n",
      "Please report this to the TensorFlow team. When filing the bug, set the verbosity to 10 (on Linux, `export AUTOGRAPH_VERBOSITY=10`) and attach the full output.\n",
      "Cause: 'arguments' object has no attribute 'posonlyargs'\n",
      "To silence this warning, decorate the function with @tf.autograph.experimental.do_not_convert\n"
     ]
    },
    {
     "name": "stderr",
     "output_type": "stream",
     "text": [
      "WARNING:tensorflow:AutoGraph could not transform <bound method SparseTF.call of <model.custom_layers.SparseTF object at 0x00000207D9932C08>> and will run it as-is.\n",
      "Please report this to the TensorFlow team. When filing the bug, set the verbosity to 10 (on Linux, `export AUTOGRAPH_VERBOSITY=10`) and attach the full output.\n",
      "Cause: 'arguments' object has no attribute 'posonlyargs'\n",
      "To silence this warning, decorate the function with @tf.autograph.experimental.do_not_convert\n"
     ]
    },
    {
     "name": "stdout",
     "output_type": "stream",
     "text": [
      "WARNING: AutoGraph could not transform <bound method SparseTF.call of <model.custom_layers.SparseTF object at 0x00000207D9932C08>> and will run it as-is.\n",
      "Please report this to the TensorFlow team. When filing the bug, set the verbosity to 10 (on Linux, `export AUTOGRAPH_VERBOSITY=10`) and attach the full output.\n",
      "Cause: 'arguments' object has no attribute 'posonlyargs'\n",
      "To silence this warning, decorate the function with @tf.autograph.experimental.do_not_convert\n",
      "Layer 1, dropout  0.1 w_reg 0.001\n",
      "Layer 2, dropout  0.1 w_reg 0.001\n",
      "Layer 3, dropout  0.1 w_reg 0.001\n",
      "Layer 4, dropout  0.1 w_reg 0.001\n",
      "Compiling...\n",
      "Loss_weights [2, 7, 20, 54, 148, 400]\n",
      "WARNING:tensorflow:AutoGraph could not transform <function f1_score at 0x00000207D221EC18> and will run it as-is.\n",
      "Please report this to the TensorFlow team. When filing the bug, set the verbosity to 10 (on Linux, `export AUTOGRAPH_VERBOSITY=10`) and attach the full output.\n",
      "Cause: 'arguments' object has no attribute 'posonlyargs'\n",
      "To silence this warning, decorate the function with @tf.autograph.experimental.do_not_convert\n"
     ]
    },
    {
     "name": "stderr",
     "output_type": "stream",
     "text": [
      "WARNING:tensorflow:AutoGraph could not transform <function f1_score at 0x00000207D221EC18> and will run it as-is.\n",
      "Please report this to the TensorFlow team. When filing the bug, set the verbosity to 10 (on Linux, `export AUTOGRAPH_VERBOSITY=10`) and attach the full output.\n",
      "Cause: 'arguments' object has no attribute 'posonlyargs'\n",
      "To silence this warning, decorate the function with @tf.autograph.experimental.do_not_convert\n"
     ]
    },
    {
     "name": "stdout",
     "output_type": "stream",
     "text": [
      "WARNING: AutoGraph could not transform <function f1_score at 0x00000207D221EC18> and will run it as-is.\n",
      "Please report this to the TensorFlow team. When filing the bug, set the verbosity to 10 (on Linux, `export AUTOGRAPH_VERBOSITY=10`) and attach the full output.\n",
      "Cause: 'arguments' object has no attribute 'posonlyargs'\n",
      "To silence this warning, decorate the function with @tf.autograph.experimental.do_not_convert\n",
      "Model: \"model\"\n",
      "__________________________________________________________________________________________________\n",
      " Layer (type)                   Output Shape         Param #     Connected to                     \n",
      "==================================================================================================\n",
      " inputs (InputLayer)            [(None, 27687)]      0           []                               \n",
      "                                                                                                  \n",
      " h0 (Diagonal)                  (None, 9229)         36916       ['inputs[0][0]']                 \n",
      "                                                                                                  \n",
      " dropout_0 (Dropout)            (None, 9229)         0           ['h0[0][0]']                     \n",
      "                                                                                                  \n",
      " h1 (SparseTF)                  (None, 1387)         17038       ['dropout_0[0][0]']              \n",
      "                                                                                                  \n",
      " dropout_1 (Dropout)            (None, 1387)         0           ['h1[0][0]']                     \n",
      "                                                                                                  \n",
      " h2 (SparseTF)                  (None, 1066)         2462        ['dropout_1[0][0]']              \n",
      "                                                                                                  \n",
      " dropout_2 (Dropout)            (None, 1066)         0           ['h2[0][0]']                     \n",
      "                                                                                                  \n",
      " h3 (SparseTF)                  (None, 447)          1517        ['dropout_2[0][0]']              \n",
      "                                                                                                  \n",
      " dropout_3 (Dropout)            (None, 447)          0           ['h3[0][0]']                     \n",
      "                                                                                                  \n",
      " h4 (SparseTF)                  (None, 147)          594         ['dropout_3[0][0]']              \n",
      "                                                                                                  \n",
      " dropout_4 (Dropout)            (None, 147)          0           ['h4[0][0]']                     \n",
      "                                                                                                  \n",
      " h5 (SparseTF)                  (None, 26)           174         ['dropout_4[0][0]']              \n",
      "                                                                                                  \n",
      " o_linear1 (Dense)              (None, 1)            9230        ['h0[0][0]']                     \n",
      "                                                                                                  \n",
      " o_linear2 (Dense)              (None, 1)            1388        ['h1[0][0]']                     \n",
      "                                                                                                  \n",
      " o_linear3 (Dense)              (None, 1)            1067        ['h2[0][0]']                     \n",
      "                                                                                                  \n",
      " o_linear4 (Dense)              (None, 1)            448         ['h3[0][0]']                     \n",
      "                                                                                                  \n",
      " o_linear5 (Dense)              (None, 1)            148         ['h4[0][0]']                     \n",
      "                                                                                                  \n",
      " o_linear6 (Dense)              (None, 1)            27          ['h5[0][0]']                     \n",
      "                                                                                                  \n",
      " o1 (Activation)                (None, 1)            0           ['o_linear1[0][0]']              \n",
      "                                                                                                  \n",
      " o2 (Activation)                (None, 1)            0           ['o_linear2[0][0]']              \n",
      "                                                                                                  \n",
      " o3 (Activation)                (None, 1)            0           ['o_linear3[0][0]']              \n",
      "                                                                                                  \n",
      " o4 (Activation)                (None, 1)            0           ['o_linear4[0][0]']              \n",
      "                                                                                                  \n",
      " o5 (Activation)                (None, 1)            0           ['o_linear5[0][0]']              \n",
      "                                                                                                  \n",
      " o6 (Activation)                (None, 1)            0           ['o_linear6[0][0]']              \n",
      "                                                                                                  \n",
      "==================================================================================================\n",
      "Total params: 71,009\n",
      "Trainable params: 71,009\n",
      "Non-trainable params: 0\n",
      "__________________________________________________________________________________________________\n"
     ]
    }
   ],
   "source": [
    "model = loader.get_model('P-net_ALL')"
   ]
  },
  {
   "cell_type": "code",
   "execution_count": 9,
   "metadata": {},
   "outputs": [
    {
     "name": "stdout",
     "output_type": "stream",
     "text": [
      "Model: \"model\"\n",
      "__________________________________________________________________________________________________\n",
      " Layer (type)                   Output Shape         Param #     Connected to                     \n",
      "==================================================================================================\n",
      " inputs (InputLayer)            [(None, 27687)]      0           []                               \n",
      "                                                                                                  \n",
      " h0 (Diagonal)                  (None, 9229)         36916       ['inputs[0][0]']                 \n",
      "                                                                                                  \n",
      " dropout_0 (Dropout)            (None, 9229)         0           ['h0[0][0]']                     \n",
      "                                                                                                  \n",
      " h1 (SparseTF)                  (None, 1387)         17038       ['dropout_0[0][0]']              \n",
      "                                                                                                  \n",
      " dropout_1 (Dropout)            (None, 1387)         0           ['h1[0][0]']                     \n",
      "                                                                                                  \n",
      " h2 (SparseTF)                  (None, 1066)         2462        ['dropout_1[0][0]']              \n",
      "                                                                                                  \n",
      " dropout_2 (Dropout)            (None, 1066)         0           ['h2[0][0]']                     \n",
      "                                                                                                  \n",
      " h3 (SparseTF)                  (None, 447)          1517        ['dropout_2[0][0]']              \n",
      "                                                                                                  \n",
      " dropout_3 (Dropout)            (None, 447)          0           ['h3[0][0]']                     \n",
      "                                                                                                  \n",
      " h4 (SparseTF)                  (None, 147)          594         ['dropout_3[0][0]']              \n",
      "                                                                                                  \n",
      " dropout_4 (Dropout)            (None, 147)          0           ['h4[0][0]']                     \n",
      "                                                                                                  \n",
      " h5 (SparseTF)                  (None, 26)           174         ['dropout_4[0][0]']              \n",
      "                                                                                                  \n",
      " o_linear1 (Dense)              (None, 1)            9230        ['h0[0][0]']                     \n",
      "                                                                                                  \n",
      " o_linear2 (Dense)              (None, 1)            1388        ['h1[0][0]']                     \n",
      "                                                                                                  \n",
      " o_linear3 (Dense)              (None, 1)            1067        ['h2[0][0]']                     \n",
      "                                                                                                  \n",
      " o_linear4 (Dense)              (None, 1)            448         ['h3[0][0]']                     \n",
      "                                                                                                  \n",
      " o_linear5 (Dense)              (None, 1)            148         ['h4[0][0]']                     \n",
      "                                                                                                  \n",
      " o_linear6 (Dense)              (None, 1)            27          ['h5[0][0]']                     \n",
      "                                                                                                  \n",
      " o1 (Activation)                (None, 1)            0           ['o_linear1[0][0]']              \n",
      "                                                                                                  \n",
      " o2 (Activation)                (None, 1)            0           ['o_linear2[0][0]']              \n",
      "                                                                                                  \n",
      " o3 (Activation)                (None, 1)            0           ['o_linear3[0][0]']              \n",
      "                                                                                                  \n",
      " o4 (Activation)                (None, 1)            0           ['o_linear4[0][0]']              \n",
      "                                                                                                  \n",
      " o5 (Activation)                (None, 1)            0           ['o_linear5[0][0]']              \n",
      "                                                                                                  \n",
      " o6 (Activation)                (None, 1)            0           ['o_linear6[0][0]']              \n",
      "                                                                                                  \n",
      "==================================================================================================\n",
      "Total params: 71,009\n",
      "Trainable params: 71,009\n",
      "Non-trainable params: 0\n",
      "__________________________________________________________________________________________________\n"
     ]
    }
   ],
   "source": [
    "model.model.summary()"
   ]
  },
  {
   "cell_type": "code",
   "execution_count": 10,
   "metadata": {},
   "outputs": [
    {
     "data": {
      "text/plain": [
       "52265"
      ]
     },
     "execution_count": 10,
     "metadata": {},
     "output_type": "execute_result"
    }
   ],
   "source": [
    "get_total_number_of_neurons(model.model, True)"
   ]
  },
  {
   "cell_type": "markdown",
   "metadata": {},
   "source": [
    "### Dense Model"
   ]
  },
  {
   "cell_type": "code",
   "execution_count": 11,
   "metadata": {},
   "outputs": [
    {
     "name": "stderr",
     "output_type": "stream",
     "text": [
      "WARNING:root:Some of the genes inputed do not exist in the original dataset.\n",
      "WARNING:root:Some of the genes inputed do not exist in the original dataset.\n",
      "WARNING:root:Some of the genes inputed do not exist in the original dataset.\n"
     ]
    },
    {
     "name": "stdout",
     "output_type": "stream",
     "text": [
      "Data combine type: union\n"
     ]
    }
   ],
   "source": [
    "filename = join(PROSTATE_LOG_PATH, 'dense_net/onesplit_dense_test/dense_data_0_params.yml')\n",
    "loader = DataModelLoader(filename)"
   ]
  },
  {
   "cell_type": "code",
   "execution_count": 12,
   "metadata": {},
   "outputs": [
    {
     "name": "stderr",
     "output_type": "stream",
     "text": [
      "WARNING:root:Some of the genes inputed do not exist in the original dataset.\n"
     ]
    },
    {
     "name": "stdout",
     "output_type": "stream",
     "text": [
      "Params {'data_params': {'id': 'data_0', 'params': {'balanced_data': False, 'cnv_levels': 3, 'combine_type': 'union', 'data_type': ['important_mutations', 'cnv_deletion', 'cnv_amplification'], 'drop_AR': False, 'mutation_binary': True, 'selected_genes': 'tcga_prostate_expressed_genes_and_cancer_genes.csv', 'training_split': '0', 'use_coding_genes_only': True}, 'type': 'prostate_data'}, 'exp_name': 'C:\\\\Users\\\\Dell\\\\Desktop\\\\CV Projects\\\\prostate_cancer_genomics\\\\_logs\\\\prostate\\\\dense_net/onesplit_dense_test', 'features_params': {}, 'model_params': {'id': 'dense_data_0', 'params': {'build_fn': <function build_dense at 0x00000207D8195EE8>, 'fitting_params': {'batch_size': 50, 'class_weight': 'auto', 'debug': False, 'early_stop': False, 'epoch': 300, 'monitor': 'val_f1', 'n_outputs': 1, 'prediction_output': 'average', 'reduce_lr': False, 'reduce_lr_after_nepochs': {'drop': 0.25, 'epochs_drop': 50}, 'samples_per_epoch': 10, 'save_gradient': False, 'save_name': 'dense', 'select_best_model': False, 'shuffle': True, 'verbose': 2}, 'model_params': {'activation': 'selu', 'data_params': {'id': 'ALL', 'params': {'balanced_data': False, 'cnv_levels': 3, 'combine_type': 'union', 'data_type': ['important_mutations', 'cnv_deletion', 'cnv_amplification'], 'drop_AR': False, 'mutation_binary': True, 'selected_genes': 'tcga_prostate_expressed_genes_and_cancer_genes.csv', 'training_split': 0, 'use_coding_genes_only': True}, 'type': 'prostate_data'}, 'n_weights': 71009, 'optimizer': 'Adam', 'w_reg': 0.01}}, 'type': 'nn'}, 'pipeline_params': {'params': {'eval_dataset': 'test', 'save_train': True}, 'type': 'one_split'}, 'pre_params': {'type': None}, 'score': \"{'accuracy': 0.8186274509803921, 'precision': 0.7777777777777778, 'auc': 0.9134982024185642, 'f1': 0.694214876033058, 'aupr': 0.8568619938386001, 'recall': 0.6268656716417911}\", 'task': 'classification_binary'}\n",
      "FS model Model(build_fn=<function build_dense at 0x00000207D8195EE8>,\n",
      "      fitting_params={'batch_size': 50, 'class_weight': 'auto', 'debug': False,\n",
      "                      'early_stop': False, 'epoch': 300, 'monitor': 'val_f1',\n",
      "                      'n_outputs': 1, 'prediction_output': 'average',\n",
      "                      'reduce_lr': False,\n",
      "                      'reduce_lr_after_nepochs': {'drop': 0.25,\n",
      "                                                  'epochs_drop': 50},\n",
      "                      'samples_per_epoch': 10, 'save_gradient': False,\n",
      "                      'save_name'...\n",
      "                                    'params': {'balanced_data': False,\n",
      "                                               'cnv_levels': 3,\n",
      "                                               'combine_type': 'union',\n",
      "                                               'data_type': ['important_mutations',\n",
      "                                                             'cnv_deletion',\n",
      "                                                             'cnv_amplification'],\n",
      "                                               'drop_AR': False,\n",
      "                                               'mutation_binary': True,\n",
      "                                               'selected_genes': 'tcga_prostate_expressed_genes_and_cancer_genes.csv',\n",
      "                                               'training_split': 0,\n",
      "                                               'use_coding_genes_only': True},\n",
      "                                    'type': 'prostate_data'},\n",
      "                    'n_weights': 71009, 'optimizer': 'Adam', 'w_reg': 0.01})\n",
      "{'id': 'ALL', 'params': {'balanced_data': False, 'cnv_levels': 3, 'combine_type': 'union', 'data_type': ['important_mutations', 'cnv_deletion', 'cnv_amplification'], 'drop_AR': False, 'mutation_binary': True, 'selected_genes': 'tcga_prostate_expressed_genes_and_cancer_genes.csv', 'training_split': 0, 'use_coding_genes_only': True}, 'type': 'prostate_data'}\n"
     ]
    },
    {
     "name": "stderr",
     "output_type": "stream",
     "text": [
      "WARNING:root:Some of the genes inputed do not exist in the original dataset.\n",
      "WARNING:root:Some of the genes inputed do not exist in the original dataset.\n"
     ]
    },
    {
     "name": "stdout",
     "output_type": "stream",
     "text": [
      "Data combine type: union\n",
      "3.0\n",
      "[<keras.engine.input_layer.InputLayer object at 0x00000207DA9E2C88>, <keras.layers.core.dense.Dense object at 0x00000207D8820608>, <keras.layers.core.dense.Dense object at 0x00000207D80FB708>]\n",
      "Model: \"model_1\"\n",
      "_________________________________________________________________\n",
      " Layer (type)                Output Shape              Param #   \n",
      "=================================================================\n",
      " inputs (InputLayer)         [(None, 27687)]           0         \n",
      "                                                                 \n",
      " h0 (Dense)                  (None, 3)                 83064     \n",
      "                                                                 \n",
      " output (Dense)              (None, 1)                 4         \n",
      "                                                                 \n",
      "=================================================================\n",
      "Total params: 83,068\n",
      "Trainable params: 83,068\n",
      "Non-trainable params: 0\n",
      "_________________________________________________________________\n"
     ]
    }
   ],
   "source": [
    "dense_model =  loader.get_model('dense_data_0')"
   ]
  },
  {
   "cell_type": "code",
   "execution_count": 13,
   "metadata": {},
   "outputs": [
    {
     "data": {
      "text/plain": [
       "27690"
      ]
     },
     "execution_count": 13,
     "metadata": {},
     "output_type": "execute_result"
    }
   ],
   "source": [
    "get_total_number_of_neurons(dense_model.model, True)"
   ]
  },
  {
   "cell_type": "code",
   "execution_count": null,
   "metadata": {},
   "outputs": [],
   "source": []
  },
  {
   "cell_type": "code",
   "execution_count": 14,
   "metadata": {},
   "outputs": [
    {
     "data": {
      "text/plain": [
       "0.5298000573997895"
      ]
     },
     "execution_count": 14,
     "metadata": {},
     "output_type": "execute_result"
    }
   ],
   "source": [
    "27690./52265"
   ]
  },
  {
   "cell_type": "code",
   "execution_count": null,
   "metadata": {},
   "outputs": [],
   "source": []
  }
 ],
 "metadata": {
  "kernelspec": {
   "display_name": "Python 3.7 (tensorflow)",
   "language": "python",
   "name": "tensorflow"
  },
  "language_info": {
   "codemirror_mode": {
    "name": "ipython",
    "version": 3
   },
   "file_extension": ".py",
   "mimetype": "text/x-python",
   "name": "python",
   "nbconvert_exporter": "python",
   "pygments_lexer": "ipython3",
   "version": "3.7.7"
  }
 },
 "nbformat": 4,
 "nbformat_minor": 4
}
